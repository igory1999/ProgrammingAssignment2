{
  "nbformat": 4,
  "nbformat_minor": 0,
  "metadata": {
    "colab": {
      "name": "data1.ipynb",
      "version": "0.3.2",
      "provenance": [],
      "collapsed_sections": [],
      "include_colab_link": true
    },
    "kernelspec": {
      "name": "python3",
      "display_name": "Python 3"
    }
  },
  "cells": [
    {
      "cell_type": "markdown",
      "metadata": {
        "id": "view-in-github",
        "colab_type": "text"
      },
      "source": [
        "<a href=\"https://colab.research.google.com/github/igory1999/ProgrammingAssignment2/blob/master/data1.ipynb\" target=\"_parent\"><img src=\"https://colab.research.google.com/assets/colab-badge.svg\" alt=\"Open In Colab\"/></a>"
      ]
    },
    {
      "metadata": {
        "id": "OWUiT1vK8YKv",
        "colab_type": "text"
      },
      "cell_type": "markdown",
      "source": [
        "# Regression example"
      ]
    },
    {
      "metadata": {
        "id": "hF9uydM14sk-",
        "colab_type": "text"
      },
      "cell_type": "markdown",
      "source": [
        "## Data Generation for regression example"
      ]
    },
    {
      "metadata": {
        "id": "hjskl93HthGM",
        "colab_type": "code",
        "colab": {}
      },
      "cell_type": "code",
      "source": [
        "import random\n",
        "import numpy as np\n",
        "import matplotlib.pyplot as plt\n",
        "\n",
        "class data:\n",
        "    def __init__(self, size=10, f=lambda x: x*x, left=0, right=1, amplitude=1.0):\n",
        "        \"\"\"\n",
        "        Generate (x,y) where y=f(x) + f(x)*<random number between 0 and 1>*amplitude.\n",
        "        The data points are randomly shuffled.\n",
        "        \"\"\"\n",
        "        self.x = np.arange(left,right,(right-left)/float(size))\n",
        "        self.y = f(self.x)*(1 + amplitude*np.random.random_sample(size))\n",
        "        self.shuffle()\n",
        "    def shuffle(self):\n",
        "        \"\"\"Randomly change the order of data points\"\"\"\n",
        "        xy = np.stack((self.x, self.y), axis=-1)\n",
        "        np.random.shuffle(xy)\n",
        "        self.x = xy[:,0].reshape(self.x.shape[0],1)\n",
        "        self.y = xy[:,1].reshape(self.y.shape[0],1)\n",
        "    def plot(self):\n",
        "        plt.plot(self.x, self.y, 'bo')\n",
        "        plt.show()\n",
        "    def compute_tvt(self, split=(0.98,0.01)):\n",
        "        \"\"\"\n",
        "        Split the data into train, validation and test sets, by default: 98+1+1%.\n",
        "        Return ((x_train,y_train),(x_validation,y_validation),(x_test,y_test)).\n",
        "        \"\"\"\n",
        "        assert(sum(split) < 1)\n",
        "        b1 = int(len(self.x)*split[0])\n",
        "        b2 = b1 + int(len(self.x)*split[1])\n",
        "        train = (self.x[0:b1,0], self.y[0:b1,0])\n",
        "        validation = (self.x[b1:b2,0], self.y[b1:b2,0])\n",
        "        test = (self.x[b2:,0], self.y[b2:,0])        \n",
        "        return (train, validation, test)\n"
      ],
      "execution_count": 0,
      "outputs": []
    },
    {
      "metadata": {
        "id": "waJ5uU5749Bc",
        "colab_type": "text"
      },
      "cell_type": "markdown",
      "source": [
        "## My metrics"
      ]
    },
    {
      "metadata": {
        "id": "Hn5gupL8uAWz",
        "colab_type": "code",
        "outputId": "1a6c109e-d18a-47ac-a8a4-2662d283a834",
        "colab": {
          "base_uri": "https://localhost:8080/",
          "height": 35
        }
      },
      "cell_type": "code",
      "source": [
        "import keras.backend as K\n",
        "\n",
        "def my_me(y_true, y_pred):\n",
        "            return K.std(y_true-y_pred)"
      ],
      "execution_count": 0,
      "outputs": [
        {
          "output_type": "stream",
          "text": [
            "Using TensorFlow backend.\n"
          ],
          "name": "stderr"
        }
      ]
    },
    {
      "metadata": {
        "id": "gWpdvDr_5Hul",
        "colab_type": "text"
      },
      "cell_type": "markdown",
      "source": [
        "## Using Sequential model"
      ]
    },
    {
      "metadata": {
        "id": "D16kZBWrutbJ",
        "colab_type": "code",
        "colab": {}
      },
      "cell_type": "code",
      "source": [
        "from keras.models import Sequential\n",
        "from keras.layers import Dense, Dropout\n",
        "from keras.callbacks import ModelCheckpoint\n",
        "import pickle"
      ],
      "execution_count": 0,
      "outputs": []
    },
    {
      "metadata": {
        "id": "x-jFt7O6u7JK",
        "colab_type": "code",
        "colab": {}
      },
      "cell_type": "code",
      "source": [
        "N = 10000\n",
        "epochs = 10"
      ],
      "execution_count": 0,
      "outputs": []
    },
    {
      "metadata": {
        "id": "1V1LPSmDvJ0v",
        "colab_type": "code",
        "colab": {}
      },
      "cell_type": "code",
      "source": [
        "d = data(size=N, f = lambda x: (x-1)**3, left=-2, right=2, amplitude=1.0)"
      ],
      "execution_count": 0,
      "outputs": []
    },
    {
      "metadata": {
        "id": "dWHLA0JfvVjX",
        "colab_type": "code",
        "colab": {}
      },
      "cell_type": "code",
      "source": [
        "((x_train,y_train),(x_validation,y_validation),(x_test,y_test)) = d.compute_tvt(split=(0.9, 0.05))"
      ],
      "execution_count": 0,
      "outputs": []
    },
    {
      "metadata": {
        "id": "Kx3PsvEwvehd",
        "colab_type": "code",
        "colab": {}
      },
      "cell_type": "code",
      "source": [
        "f=open(\"test.pickle\",\"wb\")\n",
        "pickle.dump((x_test,y_test),f)\n",
        "f.close()"
      ],
      "execution_count": 0,
      "outputs": []
    },
    {
      "metadata": {
        "id": "9hVqNwD5vq4D",
        "colab_type": "code",
        "outputId": "55caa0d9-e910-4347-d05e-5f753fac8115",
        "colab": {
          "base_uri": "https://localhost:8080/",
          "height": 91
        }
      },
      "cell_type": "code",
      "source": [
        "model = Sequential()\n",
        "model.add(Dense(100, activation='relu', input_dim=1))\n",
        "model.add(Dense(1))\n",
        "\n",
        "model.compile(optimizer='sgd', loss='mse', metrics=[my_me])"
      ],
      "execution_count": 0,
      "outputs": [
        {
          "output_type": "stream",
          "text": [
            "WARNING:tensorflow:From /usr/local/lib/python3.6/dist-packages/tensorflow/python/framework/op_def_library.py:263: colocate_with (from tensorflow.python.framework.ops) is deprecated and will be removed in a future version.\n",
            "Instructions for updating:\n",
            "Colocations handled automatically by placer.\n"
          ],
          "name": "stdout"
        }
      ]
    },
    {
      "metadata": {
        "id": "gvL3dbRT7EDV",
        "colab_type": "text"
      },
      "cell_type": "markdown",
      "source": [
        "## Visualizing the model"
      ]
    },
    {
      "metadata": {
        "id": "ncM6D3LKvxYi",
        "colab_type": "code",
        "colab": {}
      },
      "cell_type": "code",
      "source": [
        "from keras.utils import plot_model\n",
        "plot_model(model, to_file='model.png', show_shapes=True)"
      ],
      "execution_count": 0,
      "outputs": []
    },
    {
      "metadata": {
        "id": "UEDj9vJGwSRw",
        "colab_type": "code",
        "outputId": "e788678e-c11f-40f4-abd4-842e7c6bf7e2",
        "colab": {
          "base_uri": "https://localhost:8080/",
          "height": 298
        }
      },
      "cell_type": "code",
      "source": [
        "from IPython.display import Image\n",
        "Image('model.png')"
      ],
      "execution_count": 0,
      "outputs": [
        {
          "output_type": "execute_result",
          "data": {
            "image/png": "[encoded data removed]",
            "text/plain": [
              "<IPython.core.display.Image object>"
            ]
          },
          "metadata": {
            "tags": []
          },
          "execution_count": 23
        }
      ]
    },
    {
      "metadata": {
        "id": "GGIyWOrax2zK",
        "colab_type": "code",
        "outputId": "a268d3b4-8e97-4480-a4dd-1e0a73c80a93",
        "colab": {
          "base_uri": "https://localhost:8080/",
          "height": 215
        }
      },
      "cell_type": "code",
      "source": [
        "model.summary()"
      ],
      "execution_count": 0,
      "outputs": [
        {
          "output_type": "stream",
          "text": [
            "_________________________________________________________________\n",
            "Layer (type)                 Output Shape              Param #   \n",
            "=================================================================\n",
            "dense_1 (Dense)              (None, 100)               200       \n",
            "_________________________________________________________________\n",
            "dense_2 (Dense)              (None, 1)                 101       \n",
            "=================================================================\n",
            "Total params: 301\n",
            "Trainable params: 301\n",
            "Non-trainable params: 0\n",
            "_________________________________________________________________\n"
          ],
          "name": "stdout"
        }
      ]
    },
    {
      "metadata": {
        "id": "Tprke217wX3k",
        "colab_type": "code",
        "outputId": "9492fbe9-bf79-4ef2-9130-fe7334bff2b6",
        "colab": {
          "base_uri": "https://localhost:8080/",
          "height": 55
        }
      },
      "cell_type": "code",
      "source": [
        "model.to_json()"
      ],
      "execution_count": 0,
      "outputs": [
        {
          "output_type": "execute_result",
          "data": {
            "text/plain": [
              "'{\"class_name\": \"Sequential\", \"config\": {\"name\": \"sequential_1\", \"layers\": [{\"class_name\": \"Dense\", \"config\": {\"name\": \"dense_1\", \"trainable\": true, \"batch_input_shape\": [null, 1], \"dtype\": \"float32\", \"units\": 100, \"activation\": \"relu\", \"use_bias\": true, \"kernel_initializer\": {\"class_name\": \"VarianceScaling\", \"config\": {\"scale\": 1.0, \"mode\": \"fan_avg\", \"distribution\": \"uniform\", \"seed\": null}}, \"bias_initializer\": {\"class_name\": \"Zeros\", \"config\": {}}, \"kernel_regularizer\": null, \"bias_regularizer\": null, \"activity_regularizer\": null, \"kernel_constraint\": null, \"bias_constraint\": null}}, {\"class_name\": \"Dense\", \"config\": {\"name\": \"dense_2\", \"trainable\": true, \"units\": 1, \"activation\": \"linear\", \"use_bias\": true, \"kernel_initializer\": {\"class_name\": \"VarianceScaling\", \"config\": {\"scale\": 1.0, \"mode\": \"fan_avg\", \"distribution\": \"uniform\", \"seed\": null}}, \"bias_initializer\": {\"class_name\": \"Zeros\", \"config\": {}}, \"kernel_regularizer\": null, \"bias_regularizer\": null, \"activity_regularizer\": null, \"kernel_constraint\": null, \"bias_constraint\": null}}]}, \"keras_version\": \"2.2.4\", \"backend\": \"tensorflow\"}'"
            ]
          },
          "metadata": {
            "tags": []
          },
          "execution_count": 25
        }
      ]
    },
    {
      "metadata": {
        "id": "E3r5gOuR7Jf2",
        "colab_type": "text"
      },
      "cell_type": "markdown",
      "source": [
        "## Training the model"
      ]
    },
    {
      "metadata": {
        "id": "i6Y8gR3vydVb",
        "colab_type": "code",
        "outputId": "884f8133-225a-44b1-fec8-d7a6bc6af6bb",
        "colab": {
          "base_uri": "https://localhost:8080/",
          "height": 809
        }
      },
      "cell_type": "code",
      "source": [
        "h  = model.fit(x_train, y_train, validation_data=(x_validation, y_validation), epochs=epochs, batch_size=200,\n",
        "               callbacks=[ModelCheckpoint('best_checkpoint.h5', monitor='val_loss', save_best_only=True, verbose=1)])\n"
      ],
      "execution_count": 0,
      "outputs": [
        {
          "output_type": "stream",
          "text": [
            "WARNING:tensorflow:From /usr/local/lib/python3.6/dist-packages/tensorflow/python/ops/math_ops.py:3066: to_int32 (from tensorflow.python.ops.math_ops) is deprecated and will be removed in a future version.\n",
            "Instructions for updating:\n",
            "Use tf.cast instead.\n",
            "Train on 9000 samples, validate on 500 samples\n",
            "Epoch 1/10\n",
            "9000/9000 [==============================] - 1s 62us/step - loss: 39.9214 - my_me: 5.2609 - val_loss: 14.3303 - val_my_me: 3.7410\n",
            "\n",
            "Epoch 00001: val_loss improved from inf to 14.33025, saving model to best_checkpoint.h5\n",
            "Epoch 2/10\n",
            "9000/9000 [==============================] - 0s 6us/step - loss: 10.7016 - my_me: 3.2342 - val_loss: 11.3174 - val_my_me: 3.3020\n",
            "\n",
            "Epoch 00002: val_loss improved from 14.33025 to 11.31744, saving model to best_checkpoint.h5\n",
            "Epoch 3/10\n",
            "9000/9000 [==============================] - 0s 6us/step - loss: 9.2695 - my_me: 3.0117 - val_loss: 10.0262 - val_my_me: 3.1281\n",
            "\n",
            "Epoch 00003: val_loss improved from 11.31744 to 10.02618, saving model to best_checkpoint.h5\n",
            "Epoch 4/10\n",
            "9000/9000 [==============================] - 0s 6us/step - loss: 8.7201 - my_me: 2.9322 - val_loss: 9.5461 - val_my_me: 3.0466\n",
            "\n",
            "Epoch 00004: val_loss improved from 10.02618 to 9.54609, saving model to best_checkpoint.h5\n",
            "Epoch 5/10\n",
            "9000/9000 [==============================] - 0s 6us/step - loss: 8.3930 - my_me: 2.8700 - val_loss: 9.0626 - val_my_me: 2.9727\n",
            "\n",
            "Epoch 00005: val_loss improved from 9.54609 to 9.06257, saving model to best_checkpoint.h5\n",
            "Epoch 6/10\n",
            "9000/9000 [==============================] - 0s 6us/step - loss: 8.0407 - my_me: 2.8004 - val_loss: 8.7162 - val_my_me: 2.9117\n",
            "\n",
            "Epoch 00006: val_loss improved from 9.06257 to 8.71618, saving model to best_checkpoint.h5\n",
            "Epoch 7/10\n",
            "9000/9000 [==============================] - 0s 6us/step - loss: 7.6876 - my_me: 2.7476 - val_loss: 8.4119 - val_my_me: 2.8594\n",
            "\n",
            "Epoch 00007: val_loss improved from 8.71618 to 8.41192, saving model to best_checkpoint.h5\n",
            "Epoch 8/10\n",
            "9000/9000 [==============================] - 0s 7us/step - loss: 7.4008 - my_me: 2.6994 - val_loss: 8.0188 - val_my_me: 2.8017\n",
            "\n",
            "Epoch 00008: val_loss improved from 8.41192 to 8.01885, saving model to best_checkpoint.h5\n",
            "Epoch 9/10\n",
            "9000/9000 [==============================] - 0s 7us/step - loss: 7.2742 - my_me: 2.6670 - val_loss: 7.8189 - val_my_me: 2.7680\n",
            "\n",
            "Epoch 00009: val_loss improved from 8.01885 to 7.81889, saving model to best_checkpoint.h5\n",
            "Epoch 10/10\n",
            "9000/9000 [==============================] - 0s 6us/step - loss: 7.2296 - my_me: 2.6501 - val_loss: 7.7406 - val_my_me: 2.7521\n",
            "\n",
            "Epoch 00010: val_loss improved from 7.81889 to 7.74056, saving model to best_checkpoint.h5\n"
          ],
          "name": "stdout"
        }
      ]
    },
    {
      "metadata": {
        "id": "hgn4YgVAysAk",
        "colab_type": "code",
        "outputId": "13cd663e-351c-40bf-a0bc-9dc9ba806de4",
        "colab": {
          "base_uri": "https://localhost:8080/",
          "height": 35
        }
      },
      "cell_type": "code",
      "source": [
        "!ls"
      ],
      "execution_count": 0,
      "outputs": [
        {
          "output_type": "stream",
          "text": [
            "best_checkpoint.h5  model.png  sample_data  test.pickle\n"
          ],
          "name": "stdout"
        }
      ]
    },
    {
      "metadata": {
        "id": "CuvC-FmUyw-F",
        "colab_type": "code",
        "colab": {}
      },
      "cell_type": "code",
      "source": [
        "model.save(\"final.h5\")"
      ],
      "execution_count": 0,
      "outputs": []
    },
    {
      "metadata": {
        "id": "bJ9Da6pAy16X",
        "colab_type": "code",
        "outputId": "387fa1d8-7acf-4a59-87eb-9981c4d38c2e",
        "colab": {
          "base_uri": "https://localhost:8080/",
          "height": 35
        }
      },
      "cell_type": "code",
      "source": [
        "!ls"
      ],
      "execution_count": 0,
      "outputs": [
        {
          "output_type": "stream",
          "text": [
            "best_checkpoint.h5  final.h5  model.png  sample_data  test.pickle\n"
          ],
          "name": "stdout"
        }
      ]
    },
    {
      "metadata": {
        "id": "iqf6BUI_y4NR",
        "colab_type": "code",
        "colab": {}
      },
      "cell_type": "code",
      "source": [
        "f=open(\"history.pickle\",\"wb\")\n",
        "pickle.dump((h.history,h.params), f)\n",
        "f.close()"
      ],
      "execution_count": 0,
      "outputs": []
    },
    {
      "metadata": {
        "id": "vy0YJE2RzBLB",
        "colab_type": "code",
        "outputId": "b9ae9fbf-cfd0-4fb3-ae79-0ef7d284fe32",
        "colab": {
          "base_uri": "https://localhost:8080/",
          "height": 53
        }
      },
      "cell_type": "code",
      "source": [
        "!ls"
      ],
      "execution_count": 0,
      "outputs": [
        {
          "output_type": "stream",
          "text": [
            "best_checkpoint.h5  history.pickle  sample_data\n",
            "final.h5\t    model.png\t    test.pickle\n"
          ],
          "name": "stdout"
        }
      ]
    },
    {
      "metadata": {
        "id": "fOt9-FqL7S_P",
        "colab_type": "text"
      },
      "cell_type": "markdown",
      "source": [
        "## Loading the model"
      ]
    },
    {
      "metadata": {
        "id": "kb_6TO_2zB4D",
        "colab_type": "code",
        "colab": {}
      },
      "cell_type": "code",
      "source": [
        "from keras.models import load_model"
      ],
      "execution_count": 0,
      "outputs": []
    },
    {
      "metadata": {
        "id": "ebImSiqL7lVE",
        "colab_type": "code",
        "colab": {}
      },
      "cell_type": "code",
      "source": [
        "model = load_model(\"best_checkpoint.h5\", custom_objects={\"my_me\":my_me})"
      ],
      "execution_count": 0,
      "outputs": []
    },
    {
      "metadata": {
        "id": "naUJgBvY2DUC",
        "colab_type": "code",
        "colab": {}
      },
      "cell_type": "code",
      "source": [
        "x_test, y_test = pickle.load(open(\"test.pickle\",\"rb\"))\n",
        "y_test_predict = model.predict(x_test)"
      ],
      "execution_count": 0,
      "outputs": []
    },
    {
      "metadata": {
        "id": "REukKAhg7rhh",
        "colab_type": "text"
      },
      "cell_type": "markdown",
      "source": [
        "## Comparing predictions with measurements"
      ]
    },
    {
      "metadata": {
        "id": "1T8wDJS9zaEO",
        "colab_type": "code",
        "outputId": "6fcc10c0-d5b2-47f4-87d7-e5f33d6f8548",
        "colab": {
          "base_uri": "https://localhost:8080/",
          "height": 394
        }
      },
      "cell_type": "code",
      "source": [
        "plt.plot(x_test, y_test, 'bo', label = \"measurements\")\n",
        "plt.plot(x_test, y_test_predict, 'r*', label = \"predictions\")\n",
        "plt.title(\"Prediction vs measurements on test data\")\n",
        "plt.legend()\n",
        "plt.xlabel(\"x\")\n",
        "plt.ylabel(\"y\")\n",
        "plt.grid(True)\n",
        "plt.show()\n",
        "plt.clf()"
      ],
      "execution_count": 0,
      "outputs": [
        {
          "output_type": "display_data",
          "data": {
            "image/png": "[encoded data removed]",
            "text/plain": [
              "<Figure size 576x396 with 1 Axes>"
            ]
          },
          "metadata": {
            "tags": []
          }
        },
        {
          "output_type": "display_data",
          "data": {
            "text/plain": [
              "<Figure size 576x396 with 0 Axes>"
            ]
          },
          "metadata": {
            "tags": []
          }
        }
      ]
    },
    {
      "metadata": {
        "id": "SUR46rJf71sP",
        "colab_type": "text"
      },
      "cell_type": "markdown",
      "source": [
        "## History object"
      ]
    },
    {
      "metadata": {
        "id": "_UcvTvuY1XXm",
        "colab_type": "code",
        "outputId": "af1a5a32-beb9-4970-e687-92f8cf2ba449",
        "colab": {
          "base_uri": "https://localhost:8080/",
          "height": 109
        }
      },
      "cell_type": "code",
      "source": [
        "history, params  = h.history, h.params\n",
        "print(\"history=\",history)\n",
        "print(\"=\"*50)\n",
        "print(\"params=\",params)\n",
        "print(\"=\"*50)\n"
      ],
      "execution_count": 0,
      "outputs": [
        {
          "output_type": "stream",
          "text": [
            "history= {'val_loss': [14.33025484085083, 11.317443656921387, 10.026184368133546, 9.546090221405029, 9.062567710876465, 8.716184902191163, 8.411919784545898, 8.018847560882568, 7.818893384933472, 7.7405595779418945], 'val_my_me': [3.740951108932495, 3.301971912384033, 3.128059482574463, 3.0465558052062987, 2.9726733207702636, 2.911738967895508, 2.85943341255188, 2.8016704082489015, 2.7679532289505007, 2.7521208763122558], 'loss': [39.921443133884004, 10.701584815979004, 9.26946268081665, 8.720053047604031, 8.392983362409804, 8.04067652490404, 7.687637323803372, 7.40084867477417, 7.274180640114678, 7.22964071697659], 'my_me': [5.26089481777615, 3.234153816435072, 3.0117076132032605, 2.9321798854404024, 2.8700221220652264, 2.800372004508972, 2.7475546174579195, 2.6994450039333766, 2.666991196738349, 2.6500817669762506]}\n",
            "==================================================\n",
            "params= {'batch_size': 200, 'epochs': 10, 'steps': None, 'samples': 9000, 'verbose': 1, 'do_validation': True, 'metrics': ['loss', 'my_me', 'val_loss', 'val_my_me']}\n",
            "==================================================\n"
          ],
          "name": "stdout"
        }
      ]
    },
    {
      "metadata": {
        "id": "BhOhQy1C76xX",
        "colab_type": "text"
      },
      "cell_type": "markdown",
      "source": [
        "## Loss on training and validation datasets"
      ]
    },
    {
      "metadata": {
        "id": "PIBH3du41oSn",
        "colab_type": "code",
        "outputId": "fd02b7d5-dc10-47a9-faf2-60e2f4caebc5",
        "colab": {
          "base_uri": "https://localhost:8080/",
          "height": 394
        }
      },
      "cell_type": "code",
      "source": [
        "plt.plot(range(1, params['epochs']+1), history['loss'], label=\"train\")\n",
        "plt.plot(range(1, params['epochs']+1), history['val_loss'], label=\"validation\")\n",
        "plt.legend()\n",
        "plt.title(\"Loss function on train and validation data\")\n",
        "plt.xlabel(\"epoch\")\n",
        "plt.ylabel(\"loss\")\n",
        "plt.grid(True)\n",
        "plt.show()\n",
        "plt.clf()"
      ],
      "execution_count": 0,
      "outputs": [
        {
          "output_type": "display_data",
          "data": {
            "image/png": "[encoded data removed]",
            "text/plain": [
              "<Figure size 576x396 with 1 Axes>"
            ]
          },
          "metadata": {
            "tags": []
          }
        },
        {
          "output_type": "display_data",
          "data": {
            "text/plain": [
              "<Figure size 576x396 with 0 Axes>"
            ]
          },
          "metadata": {
            "tags": []
          }
        }
      ]
    },
    {
      "metadata": {
        "id": "AJ8GtJK38CPW",
        "colab_type": "text"
      },
      "cell_type": "markdown",
      "source": [
        "## Custom metrics on training and validation data sets"
      ]
    },
    {
      "metadata": {
        "id": "C8YBvlcy3RhR",
        "colab_type": "code",
        "outputId": "11886cac-1e37-4491-8766-cc378346af6b",
        "colab": {
          "base_uri": "https://localhost:8080/",
          "height": 394
        }
      },
      "cell_type": "code",
      "source": [
        "plt.plot(range(1, params['epochs']+1), history['my_me'], label=\"train\")\n",
        "plt.plot(range(1, params['epochs']+1), history['val_my_me'], label=\"validation\")\n",
        "plt.legend()\n",
        "plt.title(\"STD on train and validation data\")\n",
        "plt.xlabel(\"epoch\")\n",
        "plt.ylabel(\"STD\")\n",
        "plt.grid(True)\n",
        "plt.show()\n",
        "plt.clf()"
      ],
      "execution_count": 0,
      "outputs": [
        {
          "output_type": "display_data",
          "data": {
            "image/png": "[encoded data removed]",
            "text/plain": [
              "<Figure size 576x396 with 1 Axes>"
            ]
          },
          "metadata": {
            "tags": []
          }
        },
        {
          "output_type": "display_data",
          "data": {
            "text/plain": [
              "<Figure size 576x396 with 0 Axes>"
            ]
          },
          "metadata": {
            "tags": []
          }
        }
      ]
    },
    {
      "metadata": {
        "id": "26UzX-hc3cdJ",
        "colab_type": "code",
        "colab": {}
      },
      "cell_type": "code",
      "source": [
        ""
      ],
      "execution_count": 0,
      "outputs": []
    },
    {
      "metadata": {
        "id": "MkS2pxCj9tIz",
        "colab_type": "text"
      },
      "cell_type": "markdown",
      "source": [
        "Put your image in /usr/local/share/jupyter/nbextensions/google.colab/\n",
        "\n",
        "Then display it from /nbextensions/google.colab/, e.g.\n",
        "\n",
        "%%html\n",
        "<img src='/nbextensions/google.colab/image.png' />\n",
        "\n",
        "\n",
        "\n",
        "\n",
        "from IPython.display import Image\n",
        "Image('bp.png')\n",
        "You can set width and height as well\n",
        "\n",
        "Image(\"bp.png\", width=100, height=100)\n",
        "To display more than 1 image, you need to call display. (it’s auto for just 1 image)\n",
        "\n",
        "from IPython.display import Image, display\n",
        "display(Image('1.png'))\n",
        "display(Image('2.png'))\n",
        "\n"
      ]
    },
    {
      "metadata": {
        "id": "bH-NkNhz9w14",
        "colab_type": "code",
        "colab": {}
      },
      "cell_type": "code",
      "source": [
        ""
      ],
      "execution_count": 0,
      "outputs": []
    }
  ]
}